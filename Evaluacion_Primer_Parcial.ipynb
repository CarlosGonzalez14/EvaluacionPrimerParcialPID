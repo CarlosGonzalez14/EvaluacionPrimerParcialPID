{
  "cells": [
    {
      "cell_type": "markdown",
      "metadata": {
        "id": "MCsJr8Rno71U"
      },
      "source": [
        "# **Evaluación 1**"
      ]
    },
    {
      "cell_type": "markdown",
      "source": [
        "## **¿Qué hace el comando _cut -d' ' -f 1-5_?**"
      ],
      "metadata": {
        "id": "qZ-MnUQXCs9G"
      }
    },
    {
      "cell_type": "markdown",
      "source": [
        "El comando anterior extrae partes de una entrada de texto. La opción _**-d**_ sirve para indicar cuál será el carácter que separe cada parte que vamos a extraer. Por último, la opción _**-f 1-5**_ indica que extraeremos únicamento del primer al quinto elemento que se detecten."
      ],
      "metadata": {
        "id": "ypLtrcsqC7ER"
      }
    },
    {
      "cell_type": "markdown",
      "metadata": {
        "id": "GmXl1CbBo71V"
      },
      "source": [
        "## **Análisis del archivo Apache.log**\n"
      ]
    },
    {
      "cell_type": "markdown",
      "metadata": {
        "id": "kC0JBlZwo71V"
      },
      "source": [
        "### **¿De qué trata el archivo?**"
      ]
    },
    {
      "cell_type": "markdown",
      "metadata": {
        "id": "SM4P2BMzo71V"
      },
      "source": [
        "Se trata de un archivo de registro de un servidor WEB Apache.\n",
        "Contiene principalmente eventos importantes en el servidor, como la configuración de módulos, problemas durante la ejecución, y notificaciones de posibles errores."
      ]
    },
    {
      "cell_type": "markdown",
      "source": [
        "### **Preguntas**"
      ],
      "metadata": {
        "id": "JI5EGkq59rCD"
      }
    },
    {
      "cell_type": "markdown",
      "source": [
        "#### **Obteniendo la ruta del archivo**"
      ],
      "metadata": {
        "id": "ny3wAr2s94rR"
      }
    },
    {
      "cell_type": "markdown",
      "source": [
        "Usamos el comando _pwd_ para conocer la ruta actual."
      ],
      "metadata": {
        "id": "H2BD10bB9z0B"
      }
    },
    {
      "cell_type": "code",
      "source": [
        "!pwd"
      ],
      "metadata": {
        "id": "AQERyze199GR"
      },
      "execution_count": null,
      "outputs": []
    },
    {
      "cell_type": "markdown",
      "source": [
        "Guardamos la ruta del archivo en la variable _filename_"
      ],
      "metadata": {
        "id": "k7llLTm69_db"
      }
    },
    {
      "cell_type": "code",
      "source": [
        "filename = './Apache.log'\n",
        "print(\"variable python=\" + filename1)"
      ],
      "metadata": {
        "id": "YQKhPn129015"
      },
      "execution_count": null,
      "outputs": []
    },
    {
      "cell_type": "markdown",
      "source": [
        "#### **Numero Lineas**"
      ],
      "metadata": {
        "id": "ioXnU-ZZ_Xn4"
      }
    },
    {
      "cell_type": "markdown",
      "source": [
        "El comando _**wc**_ con la opción _**-l**_ cuenta el número de líneas del archivo."
      ],
      "metadata": {
        "id": "KzFngk5kAIcp"
      }
    },
    {
      "cell_type": "code",
      "source": [
        "!wc -l filename"
      ],
      "metadata": {
        "id": "iadHkbYrAEnp"
      },
      "execution_count": null,
      "outputs": []
    },
    {
      "cell_type": "markdown",
      "source": [
        "#### **Numero de Eventos por mes**"
      ],
      "metadata": {
        "id": "Y7458zg7_lGN"
      }
    },
    {
      "cell_type": "markdown",
      "source": [
        "Extraemos la fecha de cada línea, para después cortar las ocurrencias:"
      ],
      "metadata": {
        "id": "UGOtteADAXGA"
      }
    },
    {
      "cell_type": "code",
      "source": [
        "!cat Apache.log | awk '{print $2}' | cut -d'[' -f2 | cut -d':' -f1 | sort | uniq -c"
      ],
      "metadata": {
        "id": "xA1vIFNdAUQa"
      },
      "execution_count": null,
      "outputs": []
    },
    {
      "cell_type": "markdown",
      "source": [
        "#### **Numero de eventos por categoria: notice, error, warn**"
      ],
      "metadata": {
        "id": "1rZs8q4V_nSq"
      }
    },
    {
      "cell_type": "markdown",
      "source": [
        "Es tan simple como hacer un _**grep**_ por cada uno de los tipos de evento:"
      ],
      "metadata": {
        "id": "qlb-itCFAe4W"
      }
    },
    {
      "cell_type": "markdown",
      "source": [
        "\n",
        "\n",
        "1.   **notice**\n",
        "\n"
      ],
      "metadata": {
        "id": "JEWwQcWSBBC_"
      }
    },
    {
      "cell_type": "code",
      "source": [
        "!grep -o \"\\[notice\\]\" Apache.log | wc -l"
      ],
      "metadata": {
        "id": "tleqygkSBEy0"
      },
      "execution_count": null,
      "outputs": []
    },
    {
      "cell_type": "markdown",
      "source": [
        "2.   **error**"
      ],
      "metadata": {
        "id": "L2SPzvPzBHDy"
      }
    },
    {
      "cell_type": "code",
      "source": [
        "!grep -o \"\\[error\\]\" Apache.log | wc -l"
      ],
      "metadata": {
        "id": "Vl9zWhdgBMX-"
      },
      "execution_count": null,
      "outputs": []
    },
    {
      "cell_type": "markdown",
      "source": [
        "3.   **warn**"
      ],
      "metadata": {
        "id": "ZuZWLLRUBNzW"
      }
    },
    {
      "cell_type": "code",
      "source": [
        "!grep -o \"\\[warn\\]\" Apache.log | wc -l"
      ],
      "metadata": {
        "id": "QIyu3W30BTl4"
      },
      "execution_count": null,
      "outputs": []
    },
    {
      "cell_type": "markdown",
      "source": [
        "#### **De los eventos tipo error, obtener el listado de clients**"
      ],
      "metadata": {
        "id": "jpplmaS2_vBY"
      }
    },
    {
      "cell_type": "markdown",
      "source": [
        "Primero extraemos las líneas que contengan errores usando _**grep**_, para después identificar los clientes."
      ],
      "metadata": {
        "id": "-PmbgAnCB7sp"
      }
    },
    {
      "cell_type": "code",
      "source": [
        "!grep \"\\[error\\]\" Apache.log | awk '{for(i=1;i<=NF;i++) if ($i ~ /client:/) {print $(i+1)}}' | sort | uniq -c"
      ],
      "metadata": {
        "id": "396wzTpYCJgH"
      },
      "execution_count": null,
      "outputs": []
    },
    {
      "cell_type": "markdown",
      "source": [
        "#### **De los eventos tipo error, obtener el listado de archivos que no existen**"
      ],
      "metadata": {
        "id": "nUOUu7-n_w1J"
      }
    },
    {
      "cell_type": "markdown",
      "source": [
        "Usamos la expresión \"File does not exist\" para identificar las líneas que sean específicamente este tipo de errores. _**sort**_ y _**uniq**_ servirán para generar el listado único de archivos que no existen."
      ],
      "metadata": {
        "id": "VUnUP5wcCNG6"
      }
    },
    {
      "cell_type": "code",
      "source": [
        "!grep \"\\[error\\]\" Apache.log | grep \"File does not exist\" | awk -F\"File does not exist: \" '{print $2}' | sort | uniq -c"
      ],
      "metadata": {
        "id": "nHjfV6qwCo0Y"
      },
      "execution_count": null,
      "outputs": []
    },
    {
      "cell_type": "markdown",
      "source": [
        "## **Análisis del archivo Linux.log**"
      ],
      "metadata": {
        "id": "lJj6JfX29mLD"
      }
    },
    {
      "cell_type": "markdown",
      "source": [
        "### **¿De qué trata el archivo?**"
      ],
      "metadata": {
        "id": "YaK02B-R--CX"
      }
    },
    {
      "cell_type": "markdown",
      "source": [
        "Se trata de un archivo de registro del sistema en una máquina Linux. Su contenido incluye las actividades del sistema, errores, advertencias, e información de diagnóstico."
      ],
      "metadata": {
        "id": "tr3etWO-_FTu"
      }
    },
    {
      "cell_type": "markdown",
      "metadata": {
        "id": "sJHEg2CIo71W"
      },
      "source": [
        "### **Preguntas**"
      ]
    },
    {
      "cell_type": "markdown",
      "metadata": {
        "id": "LwoUew_po71W"
      },
      "source": [
        "#### **Obteniendo la ruta del archivo**"
      ]
    },
    {
      "cell_type": "markdown",
      "source": [
        "Usamos el comando _pwd_ para conocer la ruta actual."
      ],
      "metadata": {
        "id": "wvNOFQvCpMiT"
      }
    },
    {
      "cell_type": "code",
      "source": [
        "!pwd"
      ],
      "metadata": {
        "colab": {
          "base_uri": "https://localhost:8080/"
        },
        "id": "XeTt4ywQpRhv",
        "outputId": "4555784e-3528-4b4f-fd1b-0a654d560425"
      },
      "execution_count": null,
      "outputs": [
        {
          "output_type": "stream",
          "name": "stdout",
          "text": [
            "/content\n"
          ]
        }
      ]
    },
    {
      "cell_type": "markdown",
      "metadata": {
        "id": "acPJQbH3o71W"
      },
      "source": [
        "Guardamos la ruta del archivo en la variable _filename1_"
      ]
    },
    {
      "cell_type": "code",
      "execution_count": null,
      "metadata": {
        "colab": {
          "base_uri": "https://localhost:8080/"
        },
        "id": "Ntfoi1uJo71W",
        "outputId": "13c2d248-889e-412f-8dc6-babcf341c51f"
      },
      "outputs": [
        {
          "output_type": "stream",
          "name": "stdout",
          "text": [
            "variable python=./Apache.log\n"
          ]
        }
      ],
      "source": [
        "filename1 = './Linux.log'\n",
        "print(\"variable python=\" + filename1)"
      ]
    },
    {
      "cell_type": "markdown",
      "metadata": {
        "id": "D7uAEeW8o71X"
      },
      "source": [
        "Imprimimos la ruta _filename1_ en el Bash para asegurarnos de que se haya guardado correctamente."
      ]
    },
    {
      "cell_type": "code",
      "execution_count": null,
      "metadata": {
        "vscode": {
          "languageId": "shellscript"
        },
        "colab": {
          "base_uri": "https://localhost:8080/"
        },
        "id": "FFv3DaTQo71X",
        "outputId": "969c25f3-fd54-4e98-cbfd-276105ecabc8"
      },
      "outputs": [
        {
          "output_type": "stream",
          "name": "stdout",
          "text": [
            "./Apache.log\n"
          ]
        }
      ],
      "source": [
        "!echo $filename1"
      ]
    },
    {
      "cell_type": "markdown",
      "metadata": {
        "id": "RQ0o69tVo71X"
      },
      "source": [
        "#### **Número de líneas**"
      ]
    },
    {
      "cell_type": "markdown",
      "metadata": {
        "id": "Pn7DWYTbo71X"
      },
      "source": [
        "Para contar el número de líneas empleamos el comando _**wc**_ con la opción _**-l**_, indicando que queremos únicamente el número de líneas."
      ]
    },
    {
      "cell_type": "code",
      "execution_count": null,
      "metadata": {
        "colab": {
          "base_uri": "https://localhost:8080/"
        },
        "id": "4B7K9kJzo71X",
        "outputId": "7f8f83a0-f906-42be-91bb-04a36bd5417a"
      },
      "outputs": [
        {
          "output_type": "stream",
          "name": "stdout",
          "text": [
            "56481 ./Apache.log\n"
          ]
        }
      ],
      "source": [
        "!wc -l $filename1"
      ]
    },
    {
      "cell_type": "markdown",
      "source": [
        "#### **Número de palabras**"
      ],
      "metadata": {
        "id": "osLWZ5wDpwkX"
      }
    },
    {
      "cell_type": "markdown",
      "source": [
        "Para contar el número de líneas empleamos el comando _**wc**_ con la opción _**-w**_, indicando que queremos únicamente el número de líneas."
      ],
      "metadata": {
        "id": "Y5Sx-1gZpz07"
      }
    },
    {
      "cell_type": "code",
      "execution_count": null,
      "metadata": {
        "colab": {
          "base_uri": "https://localhost:8080/"
        },
        "id": "Ty7nlGfho71X",
        "outputId": "fa996ba3-4f99-4e83-a2e0-918131e768f3"
      },
      "outputs": [
        {
          "output_type": "stream",
          "name": "stdout",
          "text": [
            "699793 ./Apache.log\n"
          ]
        }
      ],
      "source": [
        "!wc -w $filename1"
      ]
    },
    {
      "cell_type": "markdown",
      "source": [
        "#### **Número de caracteres**"
      ],
      "metadata": {
        "id": "K9oN6CpsqFCJ"
      }
    },
    {
      "cell_type": "markdown",
      "source": [
        "Para contar el número de líneas empleamos el comando _**wc**_ con la opción _**-c**_, indicando que queremos únicamente el número de líneas."
      ],
      "metadata": {
        "id": "nF71ahgJqMD9"
      }
    },
    {
      "cell_type": "code",
      "source": [
        "!wc -c $filename1"
      ],
      "metadata": {
        "colab": {
          "base_uri": "https://localhost:8080/"
        },
        "id": "GSP0mLyGqLsX",
        "outputId": "67c90871-cb2a-4231-c25d-029327564b6d"
      },
      "execution_count": null,
      "outputs": [
        {
          "output_type": "stream",
          "name": "stdout",
          "text": [
            "5135876 ./Apache.log\n"
          ]
        }
      ]
    },
    {
      "cell_type": "markdown",
      "source": [
        "#### **Número de Eventos por mes**"
      ],
      "metadata": {
        "id": "AlOsK4QerT_w"
      }
    },
    {
      "cell_type": "markdown",
      "source": [
        "Primero extraeremos la segunda columna de cada línea, que contiene la fecha con  el comando _**aws '{print $2}'**_.  \n",
        "A continuación eliminamos el corchete inicial con el comando _**cut -d'[' -f2**_, para después extraer solo la fecha, no la hora con el comando _**cut -d':' -f1**_.  \n",
        "Por último, con el comando _**sort**_ ordenamos las fechas, y contamos las ocurrencias de cada mes con el comando _**uniq -c**_.\n"
      ],
      "metadata": {
        "id": "hMIaUOt4rWor"
      }
    },
    {
      "cell_type": "code",
      "source": [
        "!cat $filename1 | awk '{print $2}' | cut -d'[' -f2 | cut -d':' -f1 | sort | uniq -c"
      ],
      "metadata": {
        "id": "G6QIV_BbsPQ9"
      },
      "execution_count": null,
      "outputs": []
    },
    {
      "cell_type": "markdown",
      "source": [
        "#### **De los eventos con el string \"authentication failure\" obtener el listado de usuarios, y cuantos eventos tienen**"
      ],
      "metadata": {
        "id": "to14sYP-rZk4"
      }
    },
    {
      "cell_type": "markdown",
      "source": [
        "Pirmero filtramos las líneas relacionadas con \"authentication failure\" usando _**grep**_.  \n",
        "A continuación usamos un ciclo _**for**_ acompañado de _**awk**_ para buscar el campo user.  \n",
        "Después el comando _**split($i,a,\"=\"); print a[2]**_,divide la cadena y extrae el nombre de usuario después del signo =.  \n",
        "Casi para terminar, _**sort**_ acompañado de _**uniq**_ cuenta cuantas veces aparece cada usuario.  \n",
        "Por último, _**sort -nr**_ ordena los resultados en orden descendente."
      ],
      "metadata": {
        "id": "K2F4vmNI6xVK"
      }
    },
    {
      "cell_type": "code",
      "source": [
        "!grep \"authentication failure\" $filename1 | awk '{for(i=1;i<=NF;i++) if ($i ~ /user=/) {split($i,a,\"=\"); print a[2]}}' | sort | uniq -c | sort -nr"
      ],
      "metadata": {
        "id": "zQ9A3zUOsLLz"
      },
      "execution_count": null,
      "outputs": []
    },
    {
      "cell_type": "markdown",
      "source": [
        "#### **Lista de IPs que establecieron conexión vía FTP y cuántas conexiones realizaron**"
      ],
      "metadata": {
        "id": "KhNY2tHv6u1V"
      }
    },
    {
      "cell_type": "markdown",
      "source": [
        "Gracias al comando _**grep**_ es posible identificar todas las conexiones marcadas como FTP."
      ],
      "metadata": {
        "id": "sj_ltXc-9IxI"
      }
    },
    {
      "cell_type": "code",
      "source": [
        "!grep \"FTP\" Linux.log | awk '{print $1}' | sort | uniq -c | sort -nr\n"
      ],
      "metadata": {
        "id": "m82ukymJ9E8v"
      },
      "execution_count": null,
      "outputs": []
    }
  ],
  "metadata": {
    "kernelspec": {
      "display_name": "Python 3",
      "language": "python",
      "name": "python3"
    },
    "language_info": {
      "codemirror_mode": {
        "name": "ipython",
        "version": 3
      },
      "file_extension": ".py",
      "mimetype": "text/x-python",
      "name": "python",
      "nbconvert_exporter": "python",
      "pygments_lexer": "ipython3",
      "version": "3.12.2"
    },
    "colab": {
      "provenance": []
    }
  },
  "nbformat": 4,
  "nbformat_minor": 0
}